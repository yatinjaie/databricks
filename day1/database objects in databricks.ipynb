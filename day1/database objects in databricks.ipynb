{
 "cells": [
  {
   "cell_type": "code",
   "execution_count": 0,
   "metadata": {
    "application/vnd.databricks.v1+cell": {
     "cellMetadata": {
      "byteLimit": 2048000,
      "implicitDf": true,
      "rowLimit": 10000
     },
     "inputWidgets": {},
     "nuid": "e54d849c-ac91-4993-a9e8-2424e5838778",
     "showTitle": true,
     "tableResultSettingsMap": {},
     "title": "dev"
    }
   },
   "outputs": [],
   "source": [
    "%sql\n",
    "use catalog dev;\n",
    "use schema yatin;"
   ]
  },
  {
   "cell_type": "code",
   "execution_count": 0,
   "metadata": {
    "application/vnd.databricks.v1+cell": {
     "cellMetadata": {
      "byteLimit": 2048000,
      "implicitDf": true,
      "rowLimit": 10000
     },
     "inputWidgets": {},
     "nuid": "16093464-ca04-4c5b-a826-f3cb25aa15b6",
     "showTitle": true,
     "tableResultSettingsMap": {},
     "title": "create schema"
    }
   },
   "outputs": [],
   "source": [
    "%sql\n",
    "create schema if not exists dev.yatin"
   ]
  },
  {
   "cell_type": "code",
   "execution_count": 0,
   "metadata": {
    "application/vnd.databricks.v1+cell": {
     "cellMetadata": {
      "byteLimit": 2048000,
      "implicitDf": true,
      "rowLimit": 10000
     },
     "inputWidgets": {},
     "nuid": "948a34c6-0400-4a61-947e-a703e2bf2a7b",
     "showTitle": true,
     "tableResultSettingsMap": {},
     "title": "create table"
    }
   },
   "outputs": [],
   "source": [
    "%sql\n",
    "drop table dev.yatin.tbl1;\n",
    "drop table dev.yatin.demo;\n",
    "create table if not exists dev.yatin.demo\n",
    "(\n",
    "  id int,\n",
    "  name string\n",
    ")"
   ]
  },
  {
   "cell_type": "code",
   "execution_count": 0,
   "metadata": {
    "application/vnd.databricks.v1+cell": {
     "cellMetadata": {
      "byteLimit": 2048000,
      "rowLimit": 10000
     },
     "inputWidgets": {},
     "nuid": "4b523a11-0d25-4209-9ac6-d0a8875535b8",
     "showTitle": true,
     "tableResultSettingsMap": {},
     "title": "insert data"
    }
   },
   "outputs": [],
   "source": [
    "from pyspark.sql import Row\n",
    "\n",
    "# Create a list of Rows\n",
    "data = [Row(id=i, name=f'name_{i}') for i in range(1, 11)]\n",
    "\n",
    "# Create a DataFrame\n",
    "df = spark.createDataFrame(data)\n",
    "\n",
    "# Insert data into the table\n",
    "df.write.insertInto(\"dev.yatin.demo\")"
   ]
  },
  {
   "cell_type": "code",
   "execution_count": 0,
   "metadata": {
    "application/vnd.databricks.v1+cell": {
     "cellMetadata": {
      "byteLimit": 2048000,
      "implicitDf": true,
      "rowLimit": 10000
     },
     "inputWidgets": {},
     "nuid": "661b008e-1b62-4aa5-b723-877c463d0bec",
     "showTitle": true,
     "tableResultSettingsMap": {},
     "title": "select data"
    }
   },
   "outputs": [],
   "source": [
    "%sql select * from dev.yatin.demo"
   ]
  },
  {
   "cell_type": "code",
   "execution_count": 0,
   "metadata": {
    "application/vnd.databricks.v1+cell": {
     "cellMetadata": {
      "byteLimit": 2048000,
      "implicitDf": true,
      "rowLimit": 10000
     },
     "inputWidgets": {},
     "nuid": "aab41f06-dea4-4cef-b966-bec760e731d2",
     "showTitle": false,
     "tableResultSettingsMap": {},
     "title": ""
    }
   },
   "outputs": [],
   "source": [
    "%sql\n",
    "create table dev.yatin.housing as\n",
    "select * from read_files(\"/Volumes/dev/naval/raw/csv/housing.csv\",format=>\"csv\")"
   ]
  },
  {
   "cell_type": "code",
   "execution_count": 0,
   "metadata": {
    "application/vnd.databricks.v1+cell": {
     "cellMetadata": {
      "byteLimit": 2048000,
      "implicitDf": true,
      "rowLimit": 10000
     },
     "inputWidgets": {},
     "nuid": "cf15b4bc-a023-4dba-ad0a-9fe42af467dd",
     "showTitle": false,
     "tableResultSettingsMap": {},
     "title": ""
    }
   },
   "outputs": [],
   "source": [
    "%sql\n",
    "select * from housing;"
   ]
  },
  {
   "cell_type": "code",
   "execution_count": 0,
   "metadata": {
    "application/vnd.databricks.v1+cell": {
     "cellMetadata": {
      "byteLimit": 2048000,
      "implicitDf": true,
      "rowLimit": 10000
     },
     "inputWidgets": {},
     "nuid": "ac503c55-fbbd-4429-84fd-5d3521e7d8e7",
     "showTitle": false,
     "tableResultSettingsMap": {},
     "title": ""
    }
   },
   "outputs": [],
   "source": [
    "%sql\n",
    "\n",
    "create table dev.yatin.customers as\n",
    "select * from parquet.`/Volumes/dev/naval/raw/parquet/part-00000-7951754c-3166-4cb7-8227-a5760c654c14-c000.snappy.parquet`"
   ]
  }
 ],
 "metadata": {
  "application/vnd.databricks.v1+notebook": {
   "computePreferences": null,
   "dashboards": [],
   "environmentMetadata": {
    "base_environment": "",
    "environment_version": "3"
   },
   "inputWidgetPreferences": null,
   "language": "python",
   "notebookMetadata": {
    "mostRecentlyExecutedCommandWithImplicitDF": {
     "commandId": 5661529705567466,
     "dataframes": [
      "_sqldf"
     ]
    },
    "pythonIndentUnit": 4
   },
   "notebookName": "database objects in databricks",
   "widgets": {}
  },
  "language_info": {
   "name": "python"
  }
 },
 "nbformat": 4,
 "nbformat_minor": 0
}
