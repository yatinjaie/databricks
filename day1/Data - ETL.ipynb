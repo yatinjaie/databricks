{
 "cells": [
  {
   "cell_type": "markdown",
   "metadata": {
    "application/vnd.databricks.v1+cell": {
     "cellMetadata": {
      "byteLimit": 2048000,
      "rowLimit": 10000
     },
     "inputWidgets": {},
     "nuid": "e03b8916-6d95-4b5d-ac8f-28eb611a3de7",
     "showTitle": false,
     "tableResultSettingsMap": {},
     "title": ""
    }
   },
   "source": [
    "Task:\n",
    "\n",
    "step1: create df\n",
    "step2: transformatin:\n",
    "                rename col TransactionID -- transaction_id,\n",
    "                            CustomerID --- customer_id,\n",
    "                add new col ingestion_date ---- current_timestamp \n",
    "Step3: write/ save to table"
   ]
  },
  {
   "cell_type": "code",
   "execution_count": 0,
   "metadata": {
    "application/vnd.databricks.v1+cell": {
     "cellMetadata": {
      "byteLimit": 2048000,
      "implicitDf": true,
      "rowLimit": 10000
     },
     "inputWidgets": {},
     "nuid": "2f5492e9-1858-4293-b29d-de694626cd51",
     "showTitle": false,
     "tableResultSettingsMap": {},
     "title": ""
    }
   },
   "outputs": [],
   "source": [
    "%run \"/Workspace/Users/yatin.jaie@gmail.com/databricks-training/day1/include\""
   ]
  },
  {
   "cell_type": "code",
   "execution_count": 0,
   "metadata": {
    "application/vnd.databricks.v1+cell": {
     "cellMetadata": {
      "byteLimit": 2048000,
      "rowLimit": 10000
     },
     "inputWidgets": {},
     "nuid": "864ae02e-6809-4b98-8b02-06b5d996a5db",
     "showTitle": false,
     "tableResultSettingsMap": {},
     "title": ""
    }
   },
   "outputs": [],
   "source": [
    "#extract\n",
    "input_path=\"/Volumes/dev/naval/raw/csv/\"\n",
    "df=spark.read.csv(f\"{input_path}/financial_dataset.csv\",header=True,inferSchema=True)\n",
    "\n",
    "#transform\n",
    "df_new = (df.withColumnRenamed(\"TransactionID\",\"transaction_id\")\n",
    ".withColumnRenamed(\"CustomerID\",\"customer_id\")\n",
    ".withColumn(\"ingestion_date\",current_timestamp()))\n",
    "\n",
    "#load\n",
    "df_new.write.mode(\"overwrite\").saveAsTable(\"dev.yatin.financial_dataset\")"
   ]
  },
  {
   "cell_type": "code",
   "execution_count": 0,
   "metadata": {
    "application/vnd.databricks.v1+cell": {
     "cellMetadata": {
      "byteLimit": 2048000,
      "implicitDf": true,
      "rowLimit": 10000
     },
     "inputWidgets": {},
     "nuid": "670d3e9b-fdc6-4e5b-8e0e-a15b552b8677",
     "showTitle": false,
     "tableResultSettingsMap": {},
     "title": ""
    }
   },
   "outputs": [],
   "source": [
    "%sql select * from dev.yatin.financial_dataset"
   ]
  }
 ],
 "metadata": {
  "application/vnd.databricks.v1+notebook": {
   "computePreferences": null,
   "dashboards": [],
   "environmentMetadata": {
    "base_environment": "",
    "environment_version": "3"
   },
   "inputWidgetPreferences": null,
   "language": "python",
   "notebookMetadata": {
    "mostRecentlyExecutedCommandWithImplicitDF": {
     "commandId": 5661529705567795,
     "dataframes": [
      "_sqldf"
     ]
    },
    "pythonIndentUnit": 4
   },
   "notebookName": "Data - ETL",
   "widgets": {}
  },
  "language_info": {
   "name": "python"
  }
 },
 "nbformat": 4,
 "nbformat_minor": 0
}
