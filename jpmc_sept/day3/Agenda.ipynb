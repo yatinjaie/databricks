{
 "cells": [
  {
   "cell_type": "code",
   "execution_count": 0,
   "metadata": {
    "application/vnd.databricks.v1+cell": {
     "cellMetadata": {},
     "inputWidgets": {},
     "nuid": "88b61df1-a77a-4e84-9122-1eb548c07c86",
     "showTitle": false,
     "tableResultSettingsMap": {},
     "title": ""
    }
   },
   "outputs": [],
   "source": [
    "Streaming\n",
    "Autoloader \n",
    "Pipelines (serverless)\n",
    "Free Edition \n",
    "lakehouse fedration \n",
    "OLTP postregre\n",
    "app\n",
    "learning material\n",
    "link \n",
    "Certification \n",
    "Databricks sql (serverless)\n",
    "managed vs external\n",
    "Unity catalog (goverance)\n",
    "\n",
    "\n",
    "\n",
    "DAB (CI/CD)\n",
    "\n",
    "\n",
    "option\n",
    "delta sharing\n",
    "\n",
    "\n",
    "\n"
   ]
  },
  {
   "cell_type": "code",
   "execution_count": 0,
   "metadata": {
    "application/vnd.databricks.v1+cell": {
     "cellMetadata": {},
     "inputWidgets": {},
     "nuid": "de42f79c-7e8f-44f6-a34f-b0012b6e4416",
     "showTitle": false,
     "tableResultSettingsMap": {},
     "title": ""
    }
   },
   "outputs": [],
   "source": [
    "streaming : data which grow over time (sec, min, hour,day, week )"
   ]
  },
  {
   "cell_type": "code",
   "execution_count": 0,
   "metadata": {
    "application/vnd.databricks.v1+cell": {
     "cellMetadata": {},
     "inputWidgets": {},
     "nuid": "dd096f79-887e-40a9-956e-ed68759853cf",
     "showTitle": false,
     "tableResultSettingsMap": {},
     "title": ""
    }
   },
   "outputs": [],
   "source": [
    "df=spark.read.json(\"path\")\n",
    "df.write.mode(\"append\").format(\"iceberg\").saveAsTable(\"tbl\")"
   ]
  },
  {
   "cell_type": "code",
   "execution_count": 0,
   "metadata": {
    "application/vnd.databricks.v1+cell": {
     "cellMetadata": {},
     "inputWidgets": {},
     "nuid": "de571119-5b6d-44ca-a2e5-29c8d9edde4f",
     "showTitle": false,
     "tableResultSettingsMap": {},
     "title": ""
    }
   },
   "outputs": [],
   "source": [
    "user_schema= \"id int, name string\"\n",
    "\n",
    "user_schema= \"id int, name string, city string\""
   ]
  },
  {
   "cell_type": "code",
   "execution_count": 0,
   "metadata": {
    "application/vnd.databricks.v1+cell": {
     "cellMetadata": {},
     "inputWidgets": {},
     "nuid": "27bb58ad-1c5c-4659-9cab-2d1f9c1ed3af",
     "showTitle": false,
     "tableResultSettingsMap": {},
     "title": ""
    }
   },
   "outputs": [],
   "source": [
    "Structured Streaming (spark)\n",
    "df=spark.readStream.schema(user_schema).json(\"path\")\n",
    "df.writeStream.option(\"checkpointLocation\",\"volume\").trigger().toTable(\"tbl\")\n",
    "\n",
    "\n",
    "\n",
    "Autoloader: (Databricks)\n",
    "df=spark.readStream.format(\"cloudFile\").option(\"cloudFiles.schemaLocation\",\"s3:\").json(\"path\")\n",
    "df.writeStream.option(\"checkpointLocation\",\"volume\").trigger().toTable(\"tbl\")\n",
    "\n",
    "(Structured Streaming & Autoloader )\n",
    "apahce spark  Pipelines (open source ): (ETL ) data engineering, Streaming tables , Materilaised views, \n"
   ]
  }
 ],
 "metadata": {
  "application/vnd.databricks.v1+notebook": {
   "computePreferences": null,
   "dashboards": [],
   "environmentMetadata": {
    "base_environment": "",
    "environment_version": "3"
   },
   "inputWidgetPreferences": null,
   "language": "sql",
   "notebookMetadata": {
    "pythonIndentUnit": 4
   },
   "notebookName": "Agenda",
   "widgets": {}
  },
  "language_info": {
   "name": "sql"
  }
 },
 "nbformat": 4,
 "nbformat_minor": 0
}
