{
 "cells": [
  {
   "cell_type": "code",
   "execution_count": 0,
   "metadata": {
    "application/vnd.databricks.v1+cell": {
     "cellMetadata": {
      "byteLimit": 2048000,
      "rowLimit": 10000
     },
     "inputWidgets": {},
     "nuid": "1be836bf-b31c-4860-a2f2-d664032137da",
     "showTitle": false,
     "tableResultSettingsMap": {},
     "title": ""
    }
   },
   "outputs": [],
   "source": [
    "create or replace table dev.naval_silver.products_scd1 (product_id int , product_name string, price double, category string)"
   ]
  },
  {
   "cell_type": "code",
   "execution_count": 0,
   "metadata": {
    "application/vnd.databricks.v1+cell": {
     "cellMetadata": {
      "byteLimit": 2048000,
      "rowLimit": 10000
     },
     "inputWidgets": {},
     "nuid": "212bbcd7-90a5-477f-8b7a-ef83bbac0c86",
     "showTitle": false,
     "tableResultSettingsMap": {},
     "title": ""
    }
   },
   "outputs": [],
   "source": [
    "with deduplicated_source as \n",
    "(\n",
    "  select s.*,\n",
    "  row_number() over(partition by product_id order by seqNum desc) as row_number\n",
    "  from dev.naval_bronze.products s\n",
    "  )\n",
    "merge into dev.naval_silver.products_scd1 t\n",
    "using (select * from deduplicated_source where row_number =1)s \n",
    "on t.product_id = s.product_id\n",
    "when matched and s.operation=\"DELETE\" \n",
    "then delete\n",
    "when matched and s.operation=\"UPDATE\" then update\n",
    "set \n",
    "t.product_name = s.product_name,\n",
    "t.price = s.product_price,\n",
    "t.category = s.product_category\n",
    "when not matched then insert \n",
    "(t.product_id, t.product_name, t.price, t.category) values (s.product_id, s.product_name, s.product_price, s.product_category)\n",
    "     "
   ]
  }
 ],
 "metadata": {
  "application/vnd.databricks.v1+notebook": {
   "computePreferences": null,
   "dashboards": [],
   "environmentMetadata": {
    "base_environment": "",
    "environment_version": "3"
   },
   "inputWidgetPreferences": null,
   "language": "sql",
   "notebookMetadata": {
    "pythonIndentUnit": 4
   },
   "notebookName": "silver_products",
   "widgets": {}
  },
  "language_info": {
   "name": "sql"
  }
 },
 "nbformat": 4,
 "nbformat_minor": 0
}
